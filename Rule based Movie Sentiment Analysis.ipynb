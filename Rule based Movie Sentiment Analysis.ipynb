{
 "cells": [
  {
   "cell_type": "markdown",
   "metadata": {},
   "source": [
    "# Rule based Movie Sentiment Analysis"
   ]
  },
  {
   "cell_type": "markdown",
   "metadata": {},
   "source": [
    "VADER (Valence Aware Dictionary and sEntiment Reasoner) is a lexicon and rule-based sentiment analysis tool. Vader has its lexicon where words are given some value, positive and negative. It also takes care of how positive or negative. for e.g. Best has higher positive value than better. VADER produces four sentiment metrics; positive, neutral, negative and compound. \n",
    "\n",
    "In this code, we intend to use our own positive and negative reviews to check the accuracy of the VADER sentiment analysis."
   ]
  },
  {
   "cell_type": "code",
   "execution_count": 1,
   "metadata": {
    "collapsed": true
   },
   "outputs": [],
   "source": [
    "import nltk\n",
    "from nltk.sentiment import vader"
   ]
  },
  {
   "cell_type": "code",
   "execution_count": 2,
   "metadata": {
    "collapsed": true
   },
   "outputs": [],
   "source": [
    "sia = vader.SentimentIntensityAnalyzer()"
   ]
  },
  {
   "cell_type": "markdown",
   "metadata": {},
   "source": [
    "Using the polarity_scores method to get the polarity scores"
   ]
  },
  {
   "cell_type": "code",
   "execution_count": 3,
   "metadata": {
    "collapsed": false
   },
   "outputs": [
    {
     "data": {
      "text/plain": [
       "{'compound': 0.4404, 'neg': 0.0, 'neu': 0.0, 'pos': 1.0}"
      ]
     },
     "execution_count": 3,
     "metadata": {},
     "output_type": "execute_result"
    }
   ],
   "source": [
    "sia.polarity_scores('Good')"
   ]
  },
  {
   "cell_type": "code",
   "execution_count": 4,
   "metadata": {
    "collapsed": false
   },
   "outputs": [
    {
     "data": {
      "text/plain": [
       "{'compound': -0.4767, 'neg': 1.0, 'neu': 0.0, 'pos': 0.0}"
      ]
     },
     "execution_count": 4,
     "metadata": {},
     "output_type": "execute_result"
    }
   ],
   "source": [
    "sia.polarity_scores('Terrible')"
   ]
  },
  {
   "cell_type": "code",
   "execution_count": 5,
   "metadata": {
    "collapsed": true
   },
   "outputs": [],
   "source": [
    "pos_review= 'C:/Users/roush/Downloads/Python Sentiment Analysis/rt-polaritydata/rt-polaritydata/rt-polarity.pos'"
   ]
  },
  {
   "cell_type": "code",
   "execution_count": 6,
   "metadata": {
    "collapsed": false
   },
   "outputs": [],
   "source": [
    "with open(pos_review,'r') as f:\n",
    "    positive_review = f.readlines()"
   ]
  },
  {
   "cell_type": "code",
   "execution_count": 7,
   "metadata": {
    "collapsed": false
   },
   "outputs": [
    {
     "data": {
      "text/plain": [
       "['the rock is destined to be the 21st century\\'s new \" conan \" and that he\\'s going to make a splash even greater than arnold schwarzenegger , jean-claud van damme or steven segal . \\n',\n",
       " 'the gorgeously elaborate continuation of \" the lord of the rings \" trilogy is so huge that a column of words cannot adequately describe co-writer/director peter jackson\\'s expanded vision of j . r . r . tolkien\\'s middle-earth . \\n',\n",
       " 'effective but too-tepid biopic\\n',\n",
       " 'if you sometimes like to go to the movies to have fun , wasabi is a good place to start . \\n',\n",
       " \"emerges as something rare , an issue movie that's so honest and keenly observed that it doesn't feel like one . \\n\"]"
      ]
     },
     "execution_count": 7,
     "metadata": {},
     "output_type": "execute_result"
    }
   ],
   "source": [
    "positive_review[:5]"
   ]
  },
  {
   "cell_type": "code",
   "execution_count": 8,
   "metadata": {
    "collapsed": false
   },
   "outputs": [
    {
     "data": {
      "text/plain": [
       "{'compound': 0.3612, 'neg': 0.0, 'neu': 0.918, 'pos': 0.082}"
      ]
     },
     "execution_count": 8,
     "metadata": {},
     "output_type": "execute_result"
    }
   ],
   "source": [
    "sia.polarity_scores(positive_review[0])"
   ]
  },
  {
   "cell_type": "code",
   "execution_count": 9,
   "metadata": {
    "collapsed": true
   },
   "outputs": [],
   "source": [
    "neg_review= 'C:/Users/roush/Downloads/Python Sentiment Analysis/rt-polaritydata/rt-polaritydata/rt-polarity.neg'"
   ]
  },
  {
   "cell_type": "code",
   "execution_count": 10,
   "metadata": {
    "collapsed": true
   },
   "outputs": [],
   "source": [
    "with open(neg_review,'r') as f:\n",
    "    negative_review = f.readlines()"
   ]
  },
  {
   "cell_type": "code",
   "execution_count": 11,
   "metadata": {
    "collapsed": false
   },
   "outputs": [
    {
     "data": {
      "text/plain": [
       "['simplistic , silly and tedious . \\n',\n",
       " \"it's so laddish and juvenile , only teenage boys could possibly find it funny . \\n\",\n",
       " 'exploitative and largely devoid of the depth or sophistication that would make watching such a graphic treatment of the crimes bearable . \\n',\n",
       " '[garbus] discards the potential for pathological study , exhuming instead , the skewed melodrama of the circumstantial situation . \\n',\n",
       " 'a visually flashy but narratively opaque and emotionally vapid exercise in style and mystification . \\n']"
      ]
     },
     "execution_count": 11,
     "metadata": {},
     "output_type": "execute_result"
    }
   ],
   "source": [
    "negative_review[:5]"
   ]
  },
  {
   "cell_type": "code",
   "execution_count": 12,
   "metadata": {
    "collapsed": true
   },
   "outputs": [],
   "source": [
    "def vaderSentiment(review):\n",
    "    return sia.polarity_scores(review)['compound']"
   ]
  },
  {
   "cell_type": "code",
   "execution_count": 13,
   "metadata": {
    "collapsed": true
   },
   "outputs": [],
   "source": [
    "def getSentiment(vaderSentiment):\n",
    "    posReviewResult = [vaderSentiment(posReview) for posReview in positive_review]\n",
    "    negReviewResult = [vaderSentiment(negReview) for negReview in negative_review]\n",
    "    return{'resultsPositive': posReviewResult, 'resultsNegative': negReviewResult}"
   ]
  },
  {
   "cell_type": "code",
   "execution_count": 14,
   "metadata": {
    "collapsed": false
   },
   "outputs": [],
   "source": [
    "def runDiagnostics(reviewResult):\n",
    "    positiveReviewResult = reviewResult['resultsPositive']\n",
    "    negativeReviewResult = reviewResult['resultsNegative']\n",
    "    pctTruePositive = float(sum(x>0 for x in positiveReviewResult))/len(positiveReviewResult)\n",
    "    pctTrueNegative = float(sum(x>0 for x in negativeReviewResult))/len(negativeReviewResult)\n",
    "    totalAccuracy = float(sum(x>0 for x in positiveReviewResult)) + float(sum(x>0 for x in negativeReviewResult))\n",
    "    total = len(positiveReviewResult)+len(negativeReviewResult)\n",
    "    \n",
    "    print('Accuracy of Positive reviews =' + '%.2f' %(pctTruePositive* 100) + '%')\n",
    "    print('Accuracy of Negative reviews =' + '%.2f' %(pctTrueNegative* 100) + '%')\n",
    "    print('Overall Accuracy =' + '%.2f' %((totalAccuracy/total)* 100) + '%')"
   ]
  },
  {
   "cell_type": "code",
   "execution_count": 15,
   "metadata": {
    "collapsed": false
   },
   "outputs": [],
   "source": [
    "vaderResults = getSentiment(vaderSentiment)"
   ]
  },
  {
   "cell_type": "code",
   "execution_count": 16,
   "metadata": {
    "collapsed": false
   },
   "outputs": [
    {
     "name": "stdout",
     "output_type": "stream",
     "text": [
      "Accuracy of Positive reviews =69.44%\n",
      "Accuracy of Negative reviews =42.24%\n",
      "Overall Accuracy =55.84%\n"
     ]
    }
   ],
   "source": [
    "runDiagnostics(vaderResults)"
   ]
  }
 ],
 "metadata": {
  "anaconda-cloud": {},
  "kernelspec": {
   "display_name": "Python [default]",
   "language": "python",
   "name": "python3"
  },
  "language_info": {
   "codemirror_mode": {
    "name": "ipython",
    "version": 3
   },
   "file_extension": ".py",
   "mimetype": "text/x-python",
   "name": "python",
   "nbconvert_exporter": "python",
   "pygments_lexer": "ipython3",
   "version": "3.5.2"
  }
 },
 "nbformat": 4,
 "nbformat_minor": 1
}
